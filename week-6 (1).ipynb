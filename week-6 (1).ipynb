{
 "cells": [
  {
   "cell_type": "code",
   "execution_count": 1,
   "id": "9599ca19",
   "metadata": {
    "execution": {
     "iopub.execute_input": "2023-04-08T22:37:26.391428Z",
     "iopub.status.busy": "2023-04-08T22:37:26.390604Z",
     "iopub.status.idle": "2023-04-08T22:37:26.400883Z",
     "shell.execute_reply": "2023-04-08T22:37:26.399970Z"
    },
    "papermill": {
     "duration": 0.020559,
     "end_time": "2023-04-08T22:37:26.403013",
     "exception": false,
     "start_time": "2023-04-08T22:37:26.382454",
     "status": "completed"
    },
    "tags": []
   },
   "outputs": [],
   "source": [
    "import os\n",
    "import time\n",
    "import gc"
   ]
  },
  {
   "cell_type": "markdown",
   "id": "09d08831",
   "metadata": {
    "papermill": {
     "duration": 0.00607,
     "end_time": "2023-04-08T22:37:26.415348",
     "exception": false,
     "start_time": "2023-04-08T22:37:26.409278",
     "status": "completed"
    },
    "tags": []
   },
   "source": [
    "### PANDAS - Read the file "
   ]
  },
  {
   "cell_type": "code",
   "execution_count": 2,
   "id": "16db0c4e",
   "metadata": {
    "execution": {
     "iopub.execute_input": "2023-04-08T22:37:26.429895Z",
     "iopub.status.busy": "2023-04-08T22:37:26.428991Z",
     "iopub.status.idle": "2023-04-08T22:38:55.153696Z",
     "shell.execute_reply": "2023-04-08T22:38:55.152650Z"
    },
    "papermill": {
     "duration": 88.742341,
     "end_time": "2023-04-08T22:38:55.163990",
     "exception": false,
     "start_time": "2023-04-08T22:37:26.421649",
     "status": "completed"
    },
    "tags": []
   },
   "outputs": [
    {
     "name": "stdout",
     "output_type": "stream",
     "text": [
      "The time taken for reading the file with Pandas: 01 min 28 sec 630 ms\n"
     ]
    },
    {
     "data": {
      "text/plain": [
       "0"
      ]
     },
     "execution_count": 2,
     "metadata": {},
     "output_type": "execute_result"
    }
   ],
   "source": [
    "import pandas as pd\n",
    "\n",
    "start = time.time()\n",
    "\n",
    "pandas_df = pd.read_csv('/kaggle/input/ibm-transactions-for-anti-money-laundering-aml/LI-Medium_Trans.csv')\n",
    "\n",
    "finish = time.time()\n",
    "\n",
    "diff_min, diff_sec = divmod(finish - start, 60)\n",
    "diff_sec, diff_msec = divmod(diff_sec, 1)\n",
    "diff_msec *= 1000\n",
    "\n",
    "output_str = \"The time taken for reading the file with Pandas: {:02d} min {:02d} sec {:.0f} ms\".format(int(diff_min), int(diff_sec), diff_msec)\n",
    "\n",
    "print(output_str)\n",
    "gc.collect()"
   ]
  },
  {
   "cell_type": "markdown",
   "id": "053647fe",
   "metadata": {
    "papermill": {
     "duration": 0.006117,
     "end_time": "2023-04-08T22:38:55.176808",
     "exception": false,
     "start_time": "2023-04-08T22:38:55.170691",
     "status": "completed"
    },
    "tags": []
   },
   "source": [
    "### Dask - Read the file"
   ]
  },
  {
   "cell_type": "code",
   "execution_count": 3,
   "id": "72f71596",
   "metadata": {
    "execution": {
     "iopub.execute_input": "2023-04-08T22:38:55.191275Z",
     "iopub.status.busy": "2023-04-08T22:38:55.190938Z",
     "iopub.status.idle": "2023-04-08T22:38:58.365938Z",
     "shell.execute_reply": "2023-04-08T22:38:58.364848Z"
    },
    "papermill": {
     "duration": 3.184994,
     "end_time": "2023-04-08T22:38:58.368108",
     "exception": false,
     "start_time": "2023-04-08T22:38:55.183114",
     "status": "completed"
    },
    "tags": []
   },
   "outputs": [
    {
     "name": "stdout",
     "output_type": "stream",
     "text": [
      "The time taken for reading the file with Dask: 00 min 00 sec 37 ms\n"
     ]
    },
    {
     "data": {
      "text/plain": [
       "0"
      ]
     },
     "execution_count": 3,
     "metadata": {},
     "output_type": "execute_result"
    }
   ],
   "source": [
    "import dask.dataframe as dd\n",
    "\n",
    "start = time.time()\n",
    "\n",
    "dask_df = dd.read_csv('/kaggle/input/ibm-transactions-for-anti-money-laundering-aml/LI-Medium_Trans.csv')\n",
    "\n",
    "finish = time.time()\n",
    "\n",
    "diff_min, diff_sec = divmod(finish - start, 60)\n",
    "diff_sec, diff_msec = divmod(diff_sec, 1)\n",
    "diff_msec *= 1000\n",
    "\n",
    "output_str = \"The time taken for reading the file with Dask: {:02d} min {:02d} sec {:.0f} ms\".format(int(diff_min), int(diff_sec), diff_msec)\n",
    "\n",
    "print(output_str)\n",
    "gc.collect()"
   ]
  },
  {
   "cell_type": "markdown",
   "id": "f8b451cd",
   "metadata": {
    "papermill": {
     "duration": 0.006523,
     "end_time": "2023-04-08T22:38:58.381910",
     "exception": false,
     "start_time": "2023-04-08T22:38:58.375387",
     "status": "completed"
    },
    "tags": []
   },
   "source": [
    "## Findings：\n",
    "\n",
    "**Dask, with its ability to parallelize operations across multiple cores and even multiple machines, boasts a faster reading and loading time compared to other techniques like typical Pandas or Ray or Modin. This efficiency in handling large datasets is a crucial advantage, especially in fields where data is the core of decision-making. With Dask's optimized computing power, data scientists and analysts can access and analyze data more efficiently, leading to faster and more accurate insights. Additionally, Dask's flexibility and compatibility with other Python libraries make it a popular choice for handling big data in various industries.**"
   ]
  },
  {
   "cell_type": "code",
   "execution_count": 4,
   "id": "47c06813",
   "metadata": {
    "execution": {
     "iopub.execute_input": "2023-04-08T22:38:58.397911Z",
     "iopub.status.busy": "2023-04-08T22:38:58.397611Z",
     "iopub.status.idle": "2023-04-08T22:38:59.890915Z",
     "shell.execute_reply": "2023-04-08T22:38:59.889969Z"
    },
    "papermill": {
     "duration": 1.504395,
     "end_time": "2023-04-08T22:38:59.893143",
     "exception": false,
     "start_time": "2023-04-08T22:38:58.388748",
     "status": "completed"
    },
    "tags": []
   },
   "outputs": [
    {
     "data": {
      "text/html": [
       "<div>\n",
       "<style scoped>\n",
       "    .dataframe tbody tr th:only-of-type {\n",
       "        vertical-align: middle;\n",
       "    }\n",
       "\n",
       "    .dataframe tbody tr th {\n",
       "        vertical-align: top;\n",
       "    }\n",
       "\n",
       "    .dataframe thead th {\n",
       "        text-align: right;\n",
       "    }\n",
       "</style>\n",
       "<table border=\"1\" class=\"dataframe\">\n",
       "  <thead>\n",
       "    <tr style=\"text-align: right;\">\n",
       "      <th></th>\n",
       "      <th>Timestamp</th>\n",
       "      <th>From Bank</th>\n",
       "      <th>Account</th>\n",
       "      <th>To Bank</th>\n",
       "      <th>Account.1</th>\n",
       "      <th>Amount Received</th>\n",
       "      <th>Receiving Currency</th>\n",
       "      <th>Amount Paid</th>\n",
       "      <th>Payment Currency</th>\n",
       "      <th>Payment Format</th>\n",
       "      <th>Is Laundering</th>\n",
       "    </tr>\n",
       "  </thead>\n",
       "  <tbody>\n",
       "    <tr>\n",
       "      <th>0</th>\n",
       "      <td>2022/09/01 00:15</td>\n",
       "      <td>20</td>\n",
       "      <td>800104D70</td>\n",
       "      <td>20</td>\n",
       "      <td>800104D70</td>\n",
       "      <td>8095.07</td>\n",
       "      <td>US Dollar</td>\n",
       "      <td>8095.07</td>\n",
       "      <td>US Dollar</td>\n",
       "      <td>Reinvestment</td>\n",
       "      <td>0</td>\n",
       "    </tr>\n",
       "    <tr>\n",
       "      <th>1</th>\n",
       "      <td>2022/09/01 00:18</td>\n",
       "      <td>3196</td>\n",
       "      <td>800107150</td>\n",
       "      <td>3196</td>\n",
       "      <td>800107150</td>\n",
       "      <td>7739.29</td>\n",
       "      <td>US Dollar</td>\n",
       "      <td>7739.29</td>\n",
       "      <td>US Dollar</td>\n",
       "      <td>Reinvestment</td>\n",
       "      <td>0</td>\n",
       "    </tr>\n",
       "    <tr>\n",
       "      <th>2</th>\n",
       "      <td>2022/09/01 00:23</td>\n",
       "      <td>1208</td>\n",
       "      <td>80010E430</td>\n",
       "      <td>1208</td>\n",
       "      <td>80010E430</td>\n",
       "      <td>2654.22</td>\n",
       "      <td>US Dollar</td>\n",
       "      <td>2654.22</td>\n",
       "      <td>US Dollar</td>\n",
       "      <td>Reinvestment</td>\n",
       "      <td>0</td>\n",
       "    </tr>\n",
       "    <tr>\n",
       "      <th>3</th>\n",
       "      <td>2022/09/01 00:19</td>\n",
       "      <td>3203</td>\n",
       "      <td>80010EA80</td>\n",
       "      <td>3203</td>\n",
       "      <td>80010EA80</td>\n",
       "      <td>13284.41</td>\n",
       "      <td>US Dollar</td>\n",
       "      <td>13284.41</td>\n",
       "      <td>US Dollar</td>\n",
       "      <td>Reinvestment</td>\n",
       "      <td>0</td>\n",
       "    </tr>\n",
       "    <tr>\n",
       "      <th>4</th>\n",
       "      <td>2022/09/01 00:27</td>\n",
       "      <td>20</td>\n",
       "      <td>800104D20</td>\n",
       "      <td>20</td>\n",
       "      <td>800104D20</td>\n",
       "      <td>9.72</td>\n",
       "      <td>US Dollar</td>\n",
       "      <td>9.72</td>\n",
       "      <td>US Dollar</td>\n",
       "      <td>Reinvestment</td>\n",
       "      <td>0</td>\n",
       "    </tr>\n",
       "  </tbody>\n",
       "</table>\n",
       "</div>"
      ],
      "text/plain": [
       "          Timestamp  From Bank    Account  To Bank  Account.1  \\\n",
       "0  2022/09/01 00:15         20  800104D70       20  800104D70   \n",
       "1  2022/09/01 00:18       3196  800107150     3196  800107150   \n",
       "2  2022/09/01 00:23       1208  80010E430     1208  80010E430   \n",
       "3  2022/09/01 00:19       3203  80010EA80     3203  80010EA80   \n",
       "4  2022/09/01 00:27         20  800104D20       20  800104D20   \n",
       "\n",
       "   Amount Received Receiving Currency  Amount Paid Payment Currency  \\\n",
       "0          8095.07          US Dollar      8095.07        US Dollar   \n",
       "1          7739.29          US Dollar      7739.29        US Dollar   \n",
       "2          2654.22          US Dollar      2654.22        US Dollar   \n",
       "3         13284.41          US Dollar     13284.41        US Dollar   \n",
       "4             9.72          US Dollar         9.72        US Dollar   \n",
       "\n",
       "  Payment Format  Is Laundering  \n",
       "0   Reinvestment              0  \n",
       "1   Reinvestment              0  \n",
       "2   Reinvestment              0  \n",
       "3   Reinvestment              0  \n",
       "4   Reinvestment              0  "
      ]
     },
     "execution_count": 4,
     "metadata": {},
     "output_type": "execute_result"
    }
   ],
   "source": [
    "import dask.dataframe as dd\n",
    "import pandas as pd\n",
    "\n",
    "dask_df = dd.read_csv('/kaggle/input/ibm-transactions-for-anti-money-laundering-aml/LI-Medium_Trans.csv')\n",
    "dask_df.head()"
   ]
  },
  {
   "cell_type": "code",
   "execution_count": 5,
   "id": "e4c5b3ac",
   "metadata": {
    "execution": {
     "iopub.execute_input": "2023-04-08T22:38:59.908602Z",
     "iopub.status.busy": "2023-04-08T22:38:59.908288Z",
     "iopub.status.idle": "2023-04-08T22:38:59.916255Z",
     "shell.execute_reply": "2023-04-08T22:38:59.915404Z"
    },
    "papermill": {
     "duration": 0.017757,
     "end_time": "2023-04-08T22:38:59.918284",
     "exception": false,
     "start_time": "2023-04-08T22:38:59.900527",
     "status": "completed"
    },
    "tags": []
   },
   "outputs": [
    {
     "name": "stdout",
     "output_type": "stream",
     "text": [
      "<class 'dask.dataframe.core.DataFrame'>\n",
      "Columns: 11 entries, Timestamp to Is Laundering\n",
      "dtypes: object(6), float64(2), int64(3)"
     ]
    }
   ],
   "source": [
    "dask_df.info()"
   ]
  },
  {
   "cell_type": "code",
   "execution_count": 6,
   "id": "a13dda29",
   "metadata": {
    "execution": {
     "iopub.execute_input": "2023-04-08T22:38:59.933769Z",
     "iopub.status.busy": "2023-04-08T22:38:59.933236Z",
     "iopub.status.idle": "2023-04-08T22:38:59.960895Z",
     "shell.execute_reply": "2023-04-08T22:38:59.959744Z"
    },
    "papermill": {
     "duration": 0.038322,
     "end_time": "2023-04-08T22:38:59.963523",
     "exception": false,
     "start_time": "2023-04-08T22:38:59.925201",
     "status": "completed"
    },
    "tags": []
   },
   "outputs": [
    {
     "name": "stdout",
     "output_type": "stream",
     "text": [
      "Performing simple string removal from the columns: 00 min 00 sec 20 ms\n"
     ]
    },
    {
     "name": "stderr",
     "output_type": "stream",
     "text": [
      "/opt/conda/lib/python3.7/site-packages/ipykernel_launcher.py:4: FutureWarning: The default value of regex will change from True to False in a future version.\n",
      "  after removing the cwd from sys.path.\n"
     ]
    }
   ],
   "source": [
    "start = time.time()\n",
    "\n",
    "# remove special character\n",
    "dask_df.columns = dask_df.columns.str.replace('[#,@,&,.,1]','')\n",
    "\n",
    "# removing whitespaces\n",
    "dask_df.columns = dask_df.columns.str.replace(' ', '')\n",
    "\n",
    "finish = time.time()\n",
    "diff_min, diff_sec = divmod(finish - start, 60)\n",
    "diff_sec, diff_msec = divmod(diff_sec, 1)\n",
    "diff_msec *= 1000\n",
    "\n",
    "output_str = \"Performing simple string removal from the columns: {:02d} min {:02d} sec {:.0f} ms\".format(int(diff_min), int(diff_sec), diff_msec)\n",
    "\n",
    "print(output_str)"
   ]
  },
  {
   "cell_type": "markdown",
   "id": "b44924a6",
   "metadata": {
    "papermill": {
     "duration": 0.006895,
     "end_time": "2023-04-08T22:38:59.977237",
     "exception": false,
     "start_time": "2023-04-08T22:38:59.970342",
     "status": "completed"
    },
    "tags": []
   },
   "source": [
    "### Validation with YAML"
   ]
  },
  {
   "cell_type": "code",
   "execution_count": 7,
   "id": "835b1f73",
   "metadata": {
    "execution": {
     "iopub.execute_input": "2023-04-08T22:38:59.993842Z",
     "iopub.status.busy": "2023-04-08T22:38:59.992131Z",
     "iopub.status.idle": "2023-04-08T22:39:00.000497Z",
     "shell.execute_reply": "2023-04-08T22:38:59.999346Z"
    },
    "papermill": {
     "duration": 0.018592,
     "end_time": "2023-04-08T22:39:00.002669",
     "exception": false,
     "start_time": "2023-04-08T22:38:59.984077",
     "status": "completed"
    },
    "tags": []
   },
   "outputs": [
    {
     "name": "stdout",
     "output_type": "stream",
     "text": [
      "Writing testutility.py\n"
     ]
    }
   ],
   "source": [
    "%%writefile testutility.py\n",
    "import logging\n",
    "import os\n",
    "import subprocess\n",
    "import yaml\n",
    "import pandas as pd\n",
    "import datetime \n",
    "import gc\n",
    "import re\n",
    "\n",
    "def read_config_file(filepath):\n",
    "    with open(filepath, 'r') as stream:\n",
    "        try:\n",
    "            return yaml.safe_load(stream)\n",
    "        except yaml.YAMLError as exc:\n",
    "            logging.error(exc)\n",
    "\n",
    "\n",
    "def replacer(string, char):\n",
    "    pattern = char + '{2,}'\n",
    "    string = re.sub(pattern, char, string) \n",
    "    return string\n",
    "\n",
    "def col_header_val(df,table_config):\n",
    "    '''\n",
    "    replace whitespaces in the column\n",
    "    and standardized column names\n",
    "    '''\n",
    "    df.columns = df.columns.str.lower()\n",
    "    df.columns = df.columns.str.replace('[^\\w]','_',regex=True)\n",
    "    df.columns = list(map(lambda x: x.strip('_'), list(df.columns)))\n",
    "    df.columns = list(map(lambda x: replacer(x,'_'), list(df.columns)))\n",
    "    expected_col = list(map(lambda x: x.lower(),  table_config['columns']))\n",
    "    expected_col.sort()\n",
    "    df.columns =list(map(lambda x: x.lower(), list(df.columns)))\n",
    "    df = df.reindex(sorted(df.columns), axis=1)\n",
    "    if len(df.columns) == len(expected_col) and list(expected_col)  == list(df.columns):\n",
    "        print(\"column name and column length validation passed\")\n",
    "        return 1\n",
    "    else:\n",
    "        print(\"column name and column length validation failed\")\n",
    "        mismatched_columns_file = list(set(df.columns).difference(expected_col))\n",
    "        print(\"Following File columns are not in the YAML file\",mismatched_columns_file)\n",
    "        missing_YAML_file = list(set(expected_col).difference(df.columns))\n",
    "        print(\"Following YAML columns are not in the file uploaded\",missing_YAML_file)\n",
    "        logging.info(f'df columns: {df.columns}')\n",
    "        logging.info(f'expected columns: {expected_col}')\n",
    "        return 0"
   ]
  },
  {
   "cell_type": "markdown",
   "id": "4a6ac9c0",
   "metadata": {
    "papermill": {
     "duration": 0.006738,
     "end_time": "2023-04-08T22:39:00.016309",
     "exception": false,
     "start_time": "2023-04-08T22:39:00.009571",
     "status": "completed"
    },
    "tags": []
   },
   "source": [
    "### Write YAML file"
   ]
  },
  {
   "cell_type": "code",
   "execution_count": 8,
   "id": "d8821153",
   "metadata": {
    "execution": {
     "iopub.execute_input": "2023-04-08T22:39:00.031281Z",
     "iopub.status.busy": "2023-04-08T22:39:00.030964Z",
     "iopub.status.idle": "2023-04-08T22:39:01.102016Z",
     "shell.execute_reply": "2023-04-08T22:39:01.100900Z"
    },
    "papermill": {
     "duration": 1.081275,
     "end_time": "2023-04-08T22:39:01.104433",
     "exception": false,
     "start_time": "2023-04-08T22:39:00.023158",
     "status": "completed"
    },
    "tags": []
   },
   "outputs": [
    {
     "data": {
      "text/html": [
       "<div>\n",
       "<style scoped>\n",
       "    .dataframe tbody tr th:only-of-type {\n",
       "        vertical-align: middle;\n",
       "    }\n",
       "\n",
       "    .dataframe tbody tr th {\n",
       "        vertical-align: top;\n",
       "    }\n",
       "\n",
       "    .dataframe thead th {\n",
       "        text-align: right;\n",
       "    }\n",
       "</style>\n",
       "<table border=\"1\" class=\"dataframe\">\n",
       "  <thead>\n",
       "    <tr style=\"text-align: right;\">\n",
       "      <th></th>\n",
       "      <th>Timestamp</th>\n",
       "      <th>FromBank</th>\n",
       "      <th>Account</th>\n",
       "      <th>ToBank</th>\n",
       "      <th>Account</th>\n",
       "      <th>AmountReceived</th>\n",
       "      <th>ReceivingCurrency</th>\n",
       "      <th>AmountPaid</th>\n",
       "      <th>PaymentCurrency</th>\n",
       "      <th>PaymentFormat</th>\n",
       "      <th>IsLaundering</th>\n",
       "    </tr>\n",
       "  </thead>\n",
       "  <tbody>\n",
       "    <tr>\n",
       "      <th>0</th>\n",
       "      <td>2022/09/01 00:15</td>\n",
       "      <td>20</td>\n",
       "      <td>800104D70</td>\n",
       "      <td>20</td>\n",
       "      <td>800104D70</td>\n",
       "      <td>8095.07</td>\n",
       "      <td>US Dollar</td>\n",
       "      <td>8095.07</td>\n",
       "      <td>US Dollar</td>\n",
       "      <td>Reinvestment</td>\n",
       "      <td>0</td>\n",
       "    </tr>\n",
       "    <tr>\n",
       "      <th>1</th>\n",
       "      <td>2022/09/01 00:18</td>\n",
       "      <td>3196</td>\n",
       "      <td>800107150</td>\n",
       "      <td>3196</td>\n",
       "      <td>800107150</td>\n",
       "      <td>7739.29</td>\n",
       "      <td>US Dollar</td>\n",
       "      <td>7739.29</td>\n",
       "      <td>US Dollar</td>\n",
       "      <td>Reinvestment</td>\n",
       "      <td>0</td>\n",
       "    </tr>\n",
       "    <tr>\n",
       "      <th>2</th>\n",
       "      <td>2022/09/01 00:23</td>\n",
       "      <td>1208</td>\n",
       "      <td>80010E430</td>\n",
       "      <td>1208</td>\n",
       "      <td>80010E430</td>\n",
       "      <td>2654.22</td>\n",
       "      <td>US Dollar</td>\n",
       "      <td>2654.22</td>\n",
       "      <td>US Dollar</td>\n",
       "      <td>Reinvestment</td>\n",
       "      <td>0</td>\n",
       "    </tr>\n",
       "    <tr>\n",
       "      <th>3</th>\n",
       "      <td>2022/09/01 00:19</td>\n",
       "      <td>3203</td>\n",
       "      <td>80010EA80</td>\n",
       "      <td>3203</td>\n",
       "      <td>80010EA80</td>\n",
       "      <td>13284.41</td>\n",
       "      <td>US Dollar</td>\n",
       "      <td>13284.41</td>\n",
       "      <td>US Dollar</td>\n",
       "      <td>Reinvestment</td>\n",
       "      <td>0</td>\n",
       "    </tr>\n",
       "    <tr>\n",
       "      <th>4</th>\n",
       "      <td>2022/09/01 00:27</td>\n",
       "      <td>20</td>\n",
       "      <td>800104D20</td>\n",
       "      <td>20</td>\n",
       "      <td>800104D20</td>\n",
       "      <td>9.72</td>\n",
       "      <td>US Dollar</td>\n",
       "      <td>9.72</td>\n",
       "      <td>US Dollar</td>\n",
       "      <td>Reinvestment</td>\n",
       "      <td>0</td>\n",
       "    </tr>\n",
       "  </tbody>\n",
       "</table>\n",
       "</div>"
      ],
      "text/plain": [
       "          Timestamp  FromBank    Account  ToBank    Account  AmountReceived  \\\n",
       "0  2022/09/01 00:15        20  800104D70      20  800104D70         8095.07   \n",
       "1  2022/09/01 00:18      3196  800107150    3196  800107150         7739.29   \n",
       "2  2022/09/01 00:23      1208  80010E430    1208  80010E430         2654.22   \n",
       "3  2022/09/01 00:19      3203  80010EA80    3203  80010EA80        13284.41   \n",
       "4  2022/09/01 00:27        20  800104D20      20  800104D20            9.72   \n",
       "\n",
       "  ReceivingCurrency  AmountPaid PaymentCurrency PaymentFormat  IsLaundering  \n",
       "0         US Dollar     8095.07       US Dollar  Reinvestment             0  \n",
       "1         US Dollar     7739.29       US Dollar  Reinvestment             0  \n",
       "2         US Dollar     2654.22       US Dollar  Reinvestment             0  \n",
       "3         US Dollar    13284.41       US Dollar  Reinvestment             0  \n",
       "4         US Dollar        9.72       US Dollar  Reinvestment             0  "
      ]
     },
     "execution_count": 8,
     "metadata": {},
     "output_type": "execute_result"
    }
   ],
   "source": [
    "dask_df.head()"
   ]
  },
  {
   "cell_type": "code",
   "execution_count": 9,
   "id": "985b4ccc",
   "metadata": {
    "execution": {
     "iopub.execute_input": "2023-04-08T22:39:01.121261Z",
     "iopub.status.busy": "2023-04-08T22:39:01.120899Z",
     "iopub.status.idle": "2023-04-08T22:39:01.127062Z",
     "shell.execute_reply": "2023-04-08T22:39:01.126017Z"
    },
    "papermill": {
     "duration": 0.017191,
     "end_time": "2023-04-08T22:39:01.129588",
     "exception": false,
     "start_time": "2023-04-08T22:39:01.112397",
     "status": "completed"
    },
    "tags": []
   },
   "outputs": [
    {
     "name": "stdout",
     "output_type": "stream",
     "text": [
      "Writing file.yaml\n"
     ]
    }
   ],
   "source": [
    "%%writefile file.yaml\n",
    "file_type: csv\n",
    "dataset_name: testfile\n",
    "file_name: LI-Medium_Trans\n",
    "table_name: edsurv\n",
    "inbound_delimiter: \",\"\n",
    "outbound_delimiter: \"|\"\n",
    "skip_leading_rows: 1\n",
    "columns: \n",
    "    - Timestamp\n",
    "    - FromBank\n",
    "    - Account\n",
    "    - ToBank\n",
    "    - Account\n",
    "    - AmountReceived\n",
    "    - ReceivingCurrency\n",
    "    - AmountPaid\n",
    "    - PaymentCurrency\n",
    "    - PaymentFormat\n",
    "    - IsLaundering"
   ]
  },
  {
   "cell_type": "code",
   "execution_count": 10,
   "id": "9a4f4374",
   "metadata": {
    "execution": {
     "iopub.execute_input": "2023-04-08T22:39:01.145829Z",
     "iopub.status.busy": "2023-04-08T22:39:01.145042Z",
     "iopub.status.idle": "2023-04-08T22:39:01.153627Z",
     "shell.execute_reply": "2023-04-08T22:39:01.152503Z"
    },
    "papermill": {
     "duration": 0.018847,
     "end_time": "2023-04-08T22:39:01.155791",
     "exception": false,
     "start_time": "2023-04-08T22:39:01.136944",
     "status": "completed"
    },
    "tags": []
   },
   "outputs": [],
   "source": [
    "# Read config file\n",
    "import testutility as util\n",
    "config_data = util.read_config_file(\"file.yaml\")"
   ]
  },
  {
   "cell_type": "code",
   "execution_count": 11,
   "id": "2704525c",
   "metadata": {
    "execution": {
     "iopub.execute_input": "2023-04-08T22:39:01.171646Z",
     "iopub.status.busy": "2023-04-08T22:39:01.171118Z",
     "iopub.status.idle": "2023-04-08T22:39:01.177180Z",
     "shell.execute_reply": "2023-04-08T22:39:01.176157Z"
    },
    "papermill": {
     "duration": 0.016428,
     "end_time": "2023-04-08T22:39:01.179395",
     "exception": false,
     "start_time": "2023-04-08T22:39:01.162967",
     "status": "completed"
    },
    "tags": []
   },
   "outputs": [
    {
     "data": {
      "text/plain": [
       "','"
      ]
     },
     "execution_count": 11,
     "metadata": {},
     "output_type": "execute_result"
    }
   ],
   "source": [
    "config_data['inbound_delimiter']"
   ]
  },
  {
   "cell_type": "code",
   "execution_count": 12,
   "id": "43006bb3",
   "metadata": {
    "execution": {
     "iopub.execute_input": "2023-04-08T22:39:01.195697Z",
     "iopub.status.busy": "2023-04-08T22:39:01.194706Z",
     "iopub.status.idle": "2023-04-08T22:39:01.201961Z",
     "shell.execute_reply": "2023-04-08T22:39:01.200797Z"
    },
    "papermill": {
     "duration": 0.017455,
     "end_time": "2023-04-08T22:39:01.204044",
     "exception": false,
     "start_time": "2023-04-08T22:39:01.186589",
     "status": "completed"
    },
    "tags": []
   },
   "outputs": [
    {
     "data": {
      "text/plain": [
       "{'file_type': 'csv',\n",
       " 'dataset_name': 'testfile',\n",
       " 'file_name': 'LI-Medium_Trans',\n",
       " 'table_name': 'edsurv',\n",
       " 'inbound_delimiter': ',',\n",
       " 'outbound_delimiter': '|',\n",
       " 'skip_leading_rows': 1,\n",
       " 'columns': ['Timestamp',\n",
       "  'FromBank',\n",
       "  'Account',\n",
       "  'ToBank',\n",
       "  'Account',\n",
       "  'AmountReceived',\n",
       "  'ReceivingCurrency',\n",
       "  'AmountPaid',\n",
       "  'PaymentCurrency',\n",
       "  'PaymentFormat',\n",
       "  'IsLaundering']}"
      ]
     },
     "execution_count": 12,
     "metadata": {},
     "output_type": "execute_result"
    }
   ],
   "source": [
    "#inspecting data of config file\n",
    "config_data"
   ]
  },
  {
   "cell_type": "code",
   "execution_count": 13,
   "id": "68fd376b",
   "metadata": {
    "execution": {
     "iopub.execute_input": "2023-04-08T22:39:01.220471Z",
     "iopub.status.busy": "2023-04-08T22:39:01.219690Z",
     "iopub.status.idle": "2023-04-08T22:39:02.257088Z",
     "shell.execute_reply": "2023-04-08T22:39:02.256074Z"
    },
    "papermill": {
     "duration": 1.047986,
     "end_time": "2023-04-08T22:39:02.259388",
     "exception": false,
     "start_time": "2023-04-08T22:39:01.211402",
     "status": "completed"
    },
    "tags": []
   },
   "outputs": [
    {
     "data": {
      "text/html": [
       "<div>\n",
       "<style scoped>\n",
       "    .dataframe tbody tr th:only-of-type {\n",
       "        vertical-align: middle;\n",
       "    }\n",
       "\n",
       "    .dataframe tbody tr th {\n",
       "        vertical-align: top;\n",
       "    }\n",
       "\n",
       "    .dataframe thead th {\n",
       "        text-align: right;\n",
       "    }\n",
       "</style>\n",
       "<table border=\"1\" class=\"dataframe\">\n",
       "  <thead>\n",
       "    <tr style=\"text-align: right;\">\n",
       "      <th></th>\n",
       "      <th>Timestamp</th>\n",
       "      <th>From Bank</th>\n",
       "      <th>Account</th>\n",
       "      <th>To Bank</th>\n",
       "      <th>Account.1</th>\n",
       "      <th>Amount Received</th>\n",
       "      <th>Receiving Currency</th>\n",
       "      <th>Amount Paid</th>\n",
       "      <th>Payment Currency</th>\n",
       "      <th>Payment Format</th>\n",
       "      <th>Is Laundering</th>\n",
       "    </tr>\n",
       "  </thead>\n",
       "  <tbody>\n",
       "    <tr>\n",
       "      <th>0</th>\n",
       "      <td>2022/09/01 00:15</td>\n",
       "      <td>20</td>\n",
       "      <td>800104D70</td>\n",
       "      <td>20</td>\n",
       "      <td>800104D70</td>\n",
       "      <td>8095.07</td>\n",
       "      <td>US Dollar</td>\n",
       "      <td>8095.07</td>\n",
       "      <td>US Dollar</td>\n",
       "      <td>Reinvestment</td>\n",
       "      <td>0</td>\n",
       "    </tr>\n",
       "    <tr>\n",
       "      <th>1</th>\n",
       "      <td>2022/09/01 00:18</td>\n",
       "      <td>3196</td>\n",
       "      <td>800107150</td>\n",
       "      <td>3196</td>\n",
       "      <td>800107150</td>\n",
       "      <td>7739.29</td>\n",
       "      <td>US Dollar</td>\n",
       "      <td>7739.29</td>\n",
       "      <td>US Dollar</td>\n",
       "      <td>Reinvestment</td>\n",
       "      <td>0</td>\n",
       "    </tr>\n",
       "    <tr>\n",
       "      <th>2</th>\n",
       "      <td>2022/09/01 00:23</td>\n",
       "      <td>1208</td>\n",
       "      <td>80010E430</td>\n",
       "      <td>1208</td>\n",
       "      <td>80010E430</td>\n",
       "      <td>2654.22</td>\n",
       "      <td>US Dollar</td>\n",
       "      <td>2654.22</td>\n",
       "      <td>US Dollar</td>\n",
       "      <td>Reinvestment</td>\n",
       "      <td>0</td>\n",
       "    </tr>\n",
       "    <tr>\n",
       "      <th>3</th>\n",
       "      <td>2022/09/01 00:19</td>\n",
       "      <td>3203</td>\n",
       "      <td>80010EA80</td>\n",
       "      <td>3203</td>\n",
       "      <td>80010EA80</td>\n",
       "      <td>13284.41</td>\n",
       "      <td>US Dollar</td>\n",
       "      <td>13284.41</td>\n",
       "      <td>US Dollar</td>\n",
       "      <td>Reinvestment</td>\n",
       "      <td>0</td>\n",
       "    </tr>\n",
       "    <tr>\n",
       "      <th>4</th>\n",
       "      <td>2022/09/01 00:27</td>\n",
       "      <td>20</td>\n",
       "      <td>800104D20</td>\n",
       "      <td>20</td>\n",
       "      <td>800104D20</td>\n",
       "      <td>9.72</td>\n",
       "      <td>US Dollar</td>\n",
       "      <td>9.72</td>\n",
       "      <td>US Dollar</td>\n",
       "      <td>Reinvestment</td>\n",
       "      <td>0</td>\n",
       "    </tr>\n",
       "  </tbody>\n",
       "</table>\n",
       "</div>"
      ],
      "text/plain": [
       "          Timestamp  From Bank    Account  To Bank  Account.1  \\\n",
       "0  2022/09/01 00:15         20  800104D70       20  800104D70   \n",
       "1  2022/09/01 00:18       3196  800107150     3196  800107150   \n",
       "2  2022/09/01 00:23       1208  80010E430     1208  80010E430   \n",
       "3  2022/09/01 00:19       3203  80010EA80     3203  80010EA80   \n",
       "4  2022/09/01 00:27         20  800104D20       20  800104D20   \n",
       "\n",
       "   Amount Received Receiving Currency  Amount Paid Payment Currency  \\\n",
       "0          8095.07          US Dollar      8095.07        US Dollar   \n",
       "1          7739.29          US Dollar      7739.29        US Dollar   \n",
       "2          2654.22          US Dollar      2654.22        US Dollar   \n",
       "3         13284.41          US Dollar     13284.41        US Dollar   \n",
       "4             9.72          US Dollar         9.72        US Dollar   \n",
       "\n",
       "  Payment Format  Is Laundering  \n",
       "0   Reinvestment              0  \n",
       "1   Reinvestment              0  \n",
       "2   Reinvestment              0  \n",
       "3   Reinvestment              0  \n",
       "4   Reinvestment              0  "
      ]
     },
     "execution_count": 13,
     "metadata": {},
     "output_type": "execute_result"
    }
   ],
   "source": [
    "import dask.dataframe as dd\n",
    "import pandas as pd\n",
    "\n",
    "sample_df = dd.read_csv('/kaggle/input/ibm-transactions-for-anti-money-laundering-aml/LI-Medium_Trans.csv')\n",
    "sample_df.head()"
   ]
  },
  {
   "cell_type": "code",
   "execution_count": 14,
   "id": "9935bc7a",
   "metadata": {
    "execution": {
     "iopub.execute_input": "2023-04-08T22:39:02.277234Z",
     "iopub.status.busy": "2023-04-08T22:39:02.276392Z",
     "iopub.status.idle": "2023-04-08T22:39:02.281240Z",
     "shell.execute_reply": "2023-04-08T22:39:02.280278Z"
    },
    "papermill": {
     "duration": 0.01585,
     "end_time": "2023-04-08T22:39:02.283358",
     "exception": false,
     "start_time": "2023-04-08T22:39:02.267508",
     "status": "completed"
    },
    "tags": []
   },
   "outputs": [],
   "source": [
    "# read the file using config file\n",
    "file_type = config_data['file_type']\n",
    "source_file = \"/kaggle/input/ibm-transactions-for-anti-money-laundering-aml/\" + config_data['file_name'] + f'.{file_type}'"
   ]
  },
  {
   "cell_type": "code",
   "execution_count": 15,
   "id": "20c6f05d",
   "metadata": {
    "execution": {
     "iopub.execute_input": "2023-04-08T22:39:02.300105Z",
     "iopub.status.busy": "2023-04-08T22:39:02.299258Z",
     "iopub.status.idle": "2023-04-08T22:39:03.669522Z",
     "shell.execute_reply": "2023-04-08T22:39:03.668354Z"
    },
    "papermill": {
     "duration": 1.381448,
     "end_time": "2023-04-08T22:39:03.672296",
     "exception": false,
     "start_time": "2023-04-08T22:39:02.290848",
     "status": "completed"
    },
    "tags": []
   },
   "outputs": [
    {
     "data": {
      "text/plain": [
       "249"
      ]
     },
     "execution_count": 15,
     "metadata": {},
     "output_type": "execute_result"
    }
   ],
   "source": [
    "del pandas_df, dask_df\n",
    "gc.collect()"
   ]
  },
  {
   "cell_type": "code",
   "execution_count": 16,
   "id": "013bbe94",
   "metadata": {
    "execution": {
     "iopub.execute_input": "2023-04-08T22:39:03.689257Z",
     "iopub.status.busy": "2023-04-08T22:39:03.688925Z",
     "iopub.status.idle": "2023-04-08T22:39:56.018194Z",
     "shell.execute_reply": "2023-04-08T22:39:56.017177Z"
    },
    "papermill": {
     "duration": 52.34239,
     "end_time": "2023-04-08T22:39:56.022595",
     "exception": false,
     "start_time": "2023-04-08T22:39:03.680205",
     "status": "completed"
    },
    "tags": []
   },
   "outputs": [
    {
     "name": "stderr",
     "output_type": "stream",
     "text": [
      "/opt/conda/lib/python3.7/site-packages/IPython/core/interactiveshell.py:3553: FutureWarning: In a future version of pandas all arguments of read_csv except for the argument 'filepath_or_buffer' will be keyword-only\n",
      "  exec(code_obj, self.user_global_ns, self.user_ns)\n"
     ]
    },
    {
     "data": {
      "text/html": [
       "<div>\n",
       "<style scoped>\n",
       "    .dataframe tbody tr th:only-of-type {\n",
       "        vertical-align: middle;\n",
       "    }\n",
       "\n",
       "    .dataframe tbody tr th {\n",
       "        vertical-align: top;\n",
       "    }\n",
       "\n",
       "    .dataframe thead th {\n",
       "        text-align: right;\n",
       "    }\n",
       "</style>\n",
       "<table border=\"1\" class=\"dataframe\">\n",
       "  <thead>\n",
       "    <tr style=\"text-align: right;\">\n",
       "      <th></th>\n",
       "      <th>Timestamp</th>\n",
       "      <th>From Bank</th>\n",
       "      <th>Account</th>\n",
       "      <th>To Bank</th>\n",
       "      <th>Account.1</th>\n",
       "      <th>Amount Received</th>\n",
       "      <th>Receiving Currency</th>\n",
       "      <th>Amount Paid</th>\n",
       "      <th>Payment Currency</th>\n",
       "      <th>Payment Format</th>\n",
       "      <th>Is Laundering</th>\n",
       "    </tr>\n",
       "  </thead>\n",
       "  <tbody>\n",
       "    <tr>\n",
       "      <th>0</th>\n",
       "      <td>2022/09/01 00:15</td>\n",
       "      <td>20</td>\n",
       "      <td>800104D70</td>\n",
       "      <td>20</td>\n",
       "      <td>800104D70</td>\n",
       "      <td>8095.07</td>\n",
       "      <td>US Dollar</td>\n",
       "      <td>8095.07</td>\n",
       "      <td>US Dollar</td>\n",
       "      <td>Reinvestment</td>\n",
       "      <td>0</td>\n",
       "    </tr>\n",
       "    <tr>\n",
       "      <th>1</th>\n",
       "      <td>2022/09/01 00:18</td>\n",
       "      <td>3196</td>\n",
       "      <td>800107150</td>\n",
       "      <td>3196</td>\n",
       "      <td>800107150</td>\n",
       "      <td>7739.29</td>\n",
       "      <td>US Dollar</td>\n",
       "      <td>7739.29</td>\n",
       "      <td>US Dollar</td>\n",
       "      <td>Reinvestment</td>\n",
       "      <td>0</td>\n",
       "    </tr>\n",
       "    <tr>\n",
       "      <th>2</th>\n",
       "      <td>2022/09/01 00:23</td>\n",
       "      <td>1208</td>\n",
       "      <td>80010E430</td>\n",
       "      <td>1208</td>\n",
       "      <td>80010E430</td>\n",
       "      <td>2654.22</td>\n",
       "      <td>US Dollar</td>\n",
       "      <td>2654.22</td>\n",
       "      <td>US Dollar</td>\n",
       "      <td>Reinvestment</td>\n",
       "      <td>0</td>\n",
       "    </tr>\n",
       "    <tr>\n",
       "      <th>3</th>\n",
       "      <td>2022/09/01 00:19</td>\n",
       "      <td>3203</td>\n",
       "      <td>80010EA80</td>\n",
       "      <td>3203</td>\n",
       "      <td>80010EA80</td>\n",
       "      <td>13284.41</td>\n",
       "      <td>US Dollar</td>\n",
       "      <td>13284.41</td>\n",
       "      <td>US Dollar</td>\n",
       "      <td>Reinvestment</td>\n",
       "      <td>0</td>\n",
       "    </tr>\n",
       "    <tr>\n",
       "      <th>4</th>\n",
       "      <td>2022/09/01 00:27</td>\n",
       "      <td>20</td>\n",
       "      <td>800104D20</td>\n",
       "      <td>20</td>\n",
       "      <td>800104D20</td>\n",
       "      <td>9.72</td>\n",
       "      <td>US Dollar</td>\n",
       "      <td>9.72</td>\n",
       "      <td>US Dollar</td>\n",
       "      <td>Reinvestment</td>\n",
       "      <td>0</td>\n",
       "    </tr>\n",
       "  </tbody>\n",
       "</table>\n",
       "</div>"
      ],
      "text/plain": [
       "          Timestamp  From Bank    Account  To Bank  Account.1  \\\n",
       "0  2022/09/01 00:15         20  800104D70       20  800104D70   \n",
       "1  2022/09/01 00:18       3196  800107150     3196  800107150   \n",
       "2  2022/09/01 00:23       1208  80010E430     1208  80010E430   \n",
       "3  2022/09/01 00:19       3203  80010EA80     3203  80010EA80   \n",
       "4  2022/09/01 00:27         20  800104D20       20  800104D20   \n",
       "\n",
       "   Amount Received Receiving Currency  Amount Paid Payment Currency  \\\n",
       "0          8095.07          US Dollar      8095.07        US Dollar   \n",
       "1          7739.29          US Dollar      7739.29        US Dollar   \n",
       "2          2654.22          US Dollar      2654.22        US Dollar   \n",
       "3         13284.41          US Dollar     13284.41        US Dollar   \n",
       "4             9.72          US Dollar         9.72        US Dollar   \n",
       "\n",
       "  Payment Format  Is Laundering  \n",
       "0   Reinvestment              0  \n",
       "1   Reinvestment              0  \n",
       "2   Reinvestment              0  \n",
       "3   Reinvestment              0  \n",
       "4   Reinvestment              0  "
      ]
     },
     "execution_count": 16,
     "metadata": {},
     "output_type": "execute_result"
    }
   ],
   "source": [
    "#print(\"\",source_file)\n",
    "df = pd.read_csv(source_file,config_data['inbound_delimiter'])\n",
    "df.head()"
   ]
  },
  {
   "cell_type": "code",
   "execution_count": 17,
   "id": "28b2d9da",
   "metadata": {
    "execution": {
     "iopub.execute_input": "2023-04-08T22:39:56.039883Z",
     "iopub.status.busy": "2023-04-08T22:39:56.039569Z",
     "iopub.status.idle": "2023-04-08T22:39:58.906160Z",
     "shell.execute_reply": "2023-04-08T22:39:58.905138Z"
    },
    "papermill": {
     "duration": 2.877496,
     "end_time": "2023-04-08T22:39:58.908264",
     "exception": false,
     "start_time": "2023-04-08T22:39:56.030768",
     "status": "completed"
    },
    "tags": []
   },
   "outputs": [
    {
     "name": "stdout",
     "output_type": "stream",
     "text": [
      "column name and column length validation failed\n",
      "Following File columns are not in the YAML file ['account_1', 'amount_received', 'from_bank', 'amount_paid', 'is_laundering', 'payment_currency', 'to_bank', 'receiving_currency', 'payment_format']\n",
      "Following YAML columns are not in the file uploaded ['frombank', 'receivingcurrency', 'amountreceived', 'islaundering', 'tobank', 'amountpaid', 'paymentcurrency', 'paymentformat']\n"
     ]
    },
    {
     "data": {
      "text/plain": [
       "0"
      ]
     },
     "execution_count": 17,
     "metadata": {},
     "output_type": "execute_result"
    }
   ],
   "source": [
    "#validate the header of the file\n",
    "util.col_header_val(df,config_data)"
   ]
  },
  {
   "cell_type": "code",
   "execution_count": 18,
   "id": "1aa2a70a",
   "metadata": {
    "execution": {
     "iopub.execute_input": "2023-04-08T22:39:58.926048Z",
     "iopub.status.busy": "2023-04-08T22:39:58.925725Z",
     "iopub.status.idle": "2023-04-08T22:39:58.933385Z",
     "shell.execute_reply": "2023-04-08T22:39:58.932371Z"
    },
    "papermill": {
     "duration": 0.018797,
     "end_time": "2023-04-08T22:39:58.935474",
     "exception": false,
     "start_time": "2023-04-08T22:39:58.916677",
     "status": "completed"
    },
    "tags": []
   },
   "outputs": [
    {
     "name": "stdout",
     "output_type": "stream",
     "text": [
      "columns of files are: Index(['timestamp', 'from_bank', 'account', 'to_bank', 'account_1',\n",
      "       'amount_received', 'receiving_currency', 'amount_paid',\n",
      "       'payment_currency', 'payment_format', 'is_laundering'],\n",
      "      dtype='object')\n",
      "columns of YAML are: ['Timestamp', 'FromBank', 'Account', 'ToBank', 'Account', 'AmountReceived', 'ReceivingCurrency', 'AmountPaid', 'PaymentCurrency', 'PaymentFormat', 'IsLaundering']\n"
     ]
    }
   ],
   "source": [
    "print(\"columns of files are:\" ,df.columns)\n",
    "print(\"columns of YAML are:\" ,config_data['columns'])"
   ]
  },
  {
   "cell_type": "code",
   "execution_count": 19,
   "id": "49cf4702",
   "metadata": {
    "execution": {
     "iopub.execute_input": "2023-04-08T22:39:58.954280Z",
     "iopub.status.busy": "2023-04-08T22:39:58.953176Z",
     "iopub.status.idle": "2023-04-08T22:40:01.867581Z",
     "shell.execute_reply": "2023-04-08T22:40:01.866447Z"
    },
    "papermill": {
     "duration": 2.92621,
     "end_time": "2023-04-08T22:40:01.869895",
     "exception": false,
     "start_time": "2023-04-08T22:39:58.943685",
     "status": "completed"
    },
    "tags": []
   },
   "outputs": [
    {
     "name": "stdout",
     "output_type": "stream",
     "text": [
      "column name and column length validation failed\n",
      "Following File columns are not in the YAML file ['account_1', 'amount_received', 'from_bank', 'amount_paid', 'is_laundering', 'payment_currency', 'to_bank', 'receiving_currency', 'payment_format']\n",
      "Following YAML columns are not in the file uploaded ['frombank', 'receivingcurrency', 'amountreceived', 'islaundering', 'tobank', 'amountpaid', 'paymentcurrency', 'paymentformat']\n",
      "validation failed\n"
     ]
    }
   ],
   "source": [
    "if util.col_header_val(df,config_data)==0:\n",
    "    print(\"validation failed\")\n",
    "else:\n",
    "    print(\"col validation passed\")\n",
    "    df_clean = df.fillna(0)\n",
    "    df_transformed = df_clean.apply(lambda x: x**2)\n",
    "    df_transformed.to_csv('LI-Medium_transformed.csv')"
   ]
  },
  {
   "cell_type": "code",
   "execution_count": 20,
   "id": "7cec3362",
   "metadata": {
    "execution": {
     "iopub.execute_input": "2023-04-08T22:40:01.888408Z",
     "iopub.status.busy": "2023-04-08T22:40:01.887800Z",
     "iopub.status.idle": "2023-04-08T22:47:28.185749Z",
     "shell.execute_reply": "2023-04-08T22:47:28.184701Z"
    },
    "papermill": {
     "duration": 446.318271,
     "end_time": "2023-04-08T22:47:28.196888",
     "exception": false,
     "start_time": "2023-04-08T22:40:01.878617",
     "status": "completed"
    },
    "tags": []
   },
   "outputs": [
    {
     "data": {
      "text/plain": [
       "['/kaggle/working/LI-Medium_Trans.csv.gz/00.part',\n",
       " '/kaggle/working/LI-Medium_Trans.csv.gz/01.part',\n",
       " '/kaggle/working/LI-Medium_Trans.csv.gz/02.part',\n",
       " '/kaggle/working/LI-Medium_Trans.csv.gz/03.part',\n",
       " '/kaggle/working/LI-Medium_Trans.csv.gz/04.part',\n",
       " '/kaggle/working/LI-Medium_Trans.csv.gz/05.part',\n",
       " '/kaggle/working/LI-Medium_Trans.csv.gz/06.part',\n",
       " '/kaggle/working/LI-Medium_Trans.csv.gz/07.part',\n",
       " '/kaggle/working/LI-Medium_Trans.csv.gz/08.part',\n",
       " '/kaggle/working/LI-Medium_Trans.csv.gz/09.part',\n",
       " '/kaggle/working/LI-Medium_Trans.csv.gz/10.part',\n",
       " '/kaggle/working/LI-Medium_Trans.csv.gz/11.part',\n",
       " '/kaggle/working/LI-Medium_Trans.csv.gz/12.part',\n",
       " '/kaggle/working/LI-Medium_Trans.csv.gz/13.part',\n",
       " '/kaggle/working/LI-Medium_Trans.csv.gz/14.part',\n",
       " '/kaggle/working/LI-Medium_Trans.csv.gz/15.part',\n",
       " '/kaggle/working/LI-Medium_Trans.csv.gz/16.part',\n",
       " '/kaggle/working/LI-Medium_Trans.csv.gz/17.part',\n",
       " '/kaggle/working/LI-Medium_Trans.csv.gz/18.part',\n",
       " '/kaggle/working/LI-Medium_Trans.csv.gz/19.part',\n",
       " '/kaggle/working/LI-Medium_Trans.csv.gz/20.part',\n",
       " '/kaggle/working/LI-Medium_Trans.csv.gz/21.part',\n",
       " '/kaggle/working/LI-Medium_Trans.csv.gz/22.part',\n",
       " '/kaggle/working/LI-Medium_Trans.csv.gz/23.part',\n",
       " '/kaggle/working/LI-Medium_Trans.csv.gz/24.part',\n",
       " '/kaggle/working/LI-Medium_Trans.csv.gz/25.part',\n",
       " '/kaggle/working/LI-Medium_Trans.csv.gz/26.part',\n",
       " '/kaggle/working/LI-Medium_Trans.csv.gz/27.part',\n",
       " '/kaggle/working/LI-Medium_Trans.csv.gz/28.part',\n",
       " '/kaggle/working/LI-Medium_Trans.csv.gz/29.part',\n",
       " '/kaggle/working/LI-Medium_Trans.csv.gz/30.part',\n",
       " '/kaggle/working/LI-Medium_Trans.csv.gz/31.part',\n",
       " '/kaggle/working/LI-Medium_Trans.csv.gz/32.part',\n",
       " '/kaggle/working/LI-Medium_Trans.csv.gz/33.part',\n",
       " '/kaggle/working/LI-Medium_Trans.csv.gz/34.part',\n",
       " '/kaggle/working/LI-Medium_Trans.csv.gz/35.part',\n",
       " '/kaggle/working/LI-Medium_Trans.csv.gz/36.part',\n",
       " '/kaggle/working/LI-Medium_Trans.csv.gz/37.part',\n",
       " '/kaggle/working/LI-Medium_Trans.csv.gz/38.part',\n",
       " '/kaggle/working/LI-Medium_Trans.csv.gz/39.part',\n",
       " '/kaggle/working/LI-Medium_Trans.csv.gz/40.part',\n",
       " '/kaggle/working/LI-Medium_Trans.csv.gz/41.part',\n",
       " '/kaggle/working/LI-Medium_Trans.csv.gz/42.part',\n",
       " '/kaggle/working/LI-Medium_Trans.csv.gz/43.part',\n",
       " '/kaggle/working/LI-Medium_Trans.csv.gz/44.part',\n",
       " '/kaggle/working/LI-Medium_Trans.csv.gz/45.part']"
      ]
     },
     "execution_count": 20,
     "metadata": {},
     "output_type": "execute_result"
    }
   ],
   "source": [
    "import csv\n",
    "import gzip\n",
    "\n",
    "from dask import dataframe as dd\n",
    "df = dd.read_csv('/kaggle/input/ibm-transactions-for-anti-money-laundering-aml/LI-Medium_Trans.csv')\n",
    "\n",
    "# Write csv in gz format in pipe separated text file (|)\n",
    "df.to_csv('LI-Medium_Trans.csv.gz',\n",
    "          sep='|',\n",
    "          header=True,\n",
    "          index=False,\n",
    "          quoting=csv.QUOTE_ALL,\n",
    "          compression='gzip',\n",
    "          quotechar='\"',\n",
    "          doublequote=True,\n",
    "          line_terminator='\\n')"
   ]
  },
  {
   "cell_type": "code",
   "execution_count": 21,
   "id": "77237c72",
   "metadata": {
    "execution": {
     "iopub.execute_input": "2023-04-08T22:47:28.215525Z",
     "iopub.status.busy": "2023-04-08T22:47:28.215160Z",
     "iopub.status.idle": "2023-04-08T22:47:44.797305Z",
     "shell.execute_reply": "2023-04-08T22:47:44.796126Z"
    },
    "papermill": {
     "duration": 16.594513,
     "end_time": "2023-04-08T22:47:44.800022",
     "exception": false,
     "start_time": "2023-04-08T22:47:28.205509",
     "status": "completed"
    },
    "tags": []
   },
   "outputs": [
    {
     "name": "stdout",
     "output_type": "stream",
     "text": [
      "File summary:\n",
      "Number of rows: 31251483\n",
      "Number of columns: 11\n",
      "File size: 4096 bytes\n"
     ]
    }
   ],
   "source": [
    "# Get file summary\n",
    "file_size = os.path.getsize('LI-Medium_Trans.csv.gz')\n",
    "num_rows = len(df)\n",
    "num_cols = len(df.columns)\n",
    "\n",
    "# Print file summary\n",
    "print(\"File summary:\")\n",
    "print(f\"Number of rows: {num_rows}\")\n",
    "print(f\"Number of columns: {num_cols}\")\n",
    "print(f\"File size: {file_size} bytes\")"
   ]
  }
 ],
 "metadata": {
  "kernelspec": {
   "display_name": "Python 3 (ipykernel)",
   "language": "python",
   "name": "python3"
  },
  "language_info": {
   "codemirror_mode": {
    "name": "ipython",
    "version": 3
   },
   "file_extension": ".py",
   "mimetype": "text/x-python",
   "name": "python",
   "nbconvert_exporter": "python",
   "pygments_lexer": "ipython3",
   "version": "3.9.13"
  },
  "papermill": {
   "default_parameters": {},
   "duration": 629.840324,
   "end_time": "2023-04-08T22:47:47.429431",
   "environment_variables": {},
   "exception": null,
   "input_path": "__notebook__.ipynb",
   "output_path": "__notebook__.ipynb",
   "parameters": {},
   "start_time": "2023-04-08T22:37:17.589107",
   "version": "2.4.0"
  },
  "varInspector": {
   "cols": {
    "lenName": 16,
    "lenType": 16,
    "lenVar": 40
   },
   "kernels_config": {
    "python": {
     "delete_cmd_postfix": "",
     "delete_cmd_prefix": "del ",
     "library": "var_list.py",
     "varRefreshCmd": "print(var_dic_list())"
    },
    "r": {
     "delete_cmd_postfix": ") ",
     "delete_cmd_prefix": "rm(",
     "library": "var_list.r",
     "varRefreshCmd": "cat(var_dic_list()) "
    }
   },
   "types_to_exclude": [
    "module",
    "function",
    "builtin_function_or_method",
    "instance",
    "_Feature"
   ],
   "window_display": false
  }
 },
 "nbformat": 4,
 "nbformat_minor": 5
}
